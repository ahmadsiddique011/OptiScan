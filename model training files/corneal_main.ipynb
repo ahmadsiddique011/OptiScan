{
 "cells": [
  {
   "cell_type": "code",
   "execution_count": 1,
   "id": "cb57165b",
   "metadata": {},
   "outputs": [],
   "source": [
    "import os\n",
    "import requests\n",
    "import cv2\n",
    "import random\n",
    "import numpy as np\n",
    "import matplotlib.pyplot as plt\n",
    "import pandas as pd\n",
    "import tensorflow as tf\n",
    "from tensorflow.keras import layers\n",
    "from tensorflow.keras.preprocessing.image import ImageDataGenerator\n",
    "from tensorflow.keras.models import Sequential\n",
    "from tensorflow.keras.layers import Conv2D\n",
    "from tensorflow.keras.layers import MaxPooling2D\n",
    "from tensorflow.keras.layers import Flatten\n",
    "from tensorflow.keras.layers import Dense\n",
    "from tensorflow.keras.layers import Dropout\n",
    "from tensorflow.keras.layers import BatchNormalization\n",
    "from tensorflow.keras.callbacks import ModelCheckpoint\n",
    "from tensorflow.keras.callbacks import CSVLogger\n",
    "from tensorflow.keras.callbacks import EarlyStopping\n",
    "from tensorflow.keras.optimizers import Adam"
   ]
  },
  {
   "cell_type": "code",
   "execution_count": 4,
   "id": "95dd2023",
   "metadata": {},
   "outputs": [],
   "source": [
    "\n",
    "train_datagen = ImageDataGenerator(\n",
    "    rescale=1./255,\n",
    "    rotation_range=360,\n",
    "    horizontal_flip=True,\n",
    "    vertical_flip=True,\n",
    "    width_shift_range=0.1,\n",
    "    height_shift_range=0.1\n",
    ")\n",
    "\n",
    "valid_datagen = ImageDataGenerator(    \n",
    "    rescale=1./255,\n",
    "    rotation_range=360,\n",
    "    horizontal_flip=True,\n",
    "    vertical_flip=True,\n",
    "    width_shift_range=0.1,\n",
    "    height_shift_range=0.1\n",
    ")\n",
    "\n",
    "test_datagen = ImageDataGenerator(\n",
    "    rescale=1./255,\n",
    "    rotation_range=360,\n",
    "    horizontal_flip=True,\n",
    "    vertical_flip=True,\n",
    "    width_shift_range=0.1,\n",
    "    height_shift_range=0.1\n",
    ")\n",
    "\n",
    "training_dir = r'D:\\DATASET\\color_model\\corneal_thickness\\train_dataset'\n",
    "validation_dir = r'D:\\DATASET\\color_model\\corneal_thickness\\val_dataset'\n",
    "testing_dir = r'D:\\DATASET\\color_model\\corneal_thickness\\test_dataset'"
   ]
  },
  {
   "cell_type": "code",
   "execution_count": 5,
   "id": "db824480",
   "metadata": {},
   "outputs": [
    {
     "name": "stdout",
     "output_type": "stream",
     "text": [
      "Found 7584 images belonging to 16 classes.\n",
      "Found 1072 images belonging to 16 classes.\n",
      "Found 2160 images belonging to 16 classes.\n"
     ]
    }
   ],
   "source": [
    "# Load the training dataset using the ImageDataGenerator\n",
    "train_dataset = train_datagen.flow_from_directory(\n",
    "    training_dir,\n",
    "    target_size=(24, 24),\n",
    "    batch_size=30,\n",
    "    class_mode='categorical',\n",
    "    shuffle=False\n",
    ")\n",
    "\n",
    "\n",
    "# Load the validation dataset using the ImageDataGenerator\n",
    "validation_dataset = valid_datagen.flow_from_directory(\n",
    "    validation_dir,\n",
    "    target_size=(24, 24),  \n",
    "    batch_size=30,\n",
    "    class_mode='categorical',\n",
    "    shuffle=False\n",
    ")\n",
    "\n",
    "# Load the validation dataset using the ImageDataGenerator\n",
    "testing_dataset = valid_datagen.flow_from_directory(\n",
    "    testing_dir,\n",
    "    target_size=(24, 24),  \n",
    "    batch_size=30,\n",
    "    class_mode='categorical',\n",
    "    shuffle=False\n",
    ")"
   ]
  },
  {
   "cell_type": "code",
   "execution_count": 6,
   "id": "4d5a6059",
   "metadata": {},
   "outputs": [
    {
     "name": "stdout",
     "output_type": "stream",
     "text": [
      "Number of classes: 16\n"
     ]
    }
   ],
   "source": [
    "# Print the number of classes in the dataset\n",
    "num_classes = len(train_dataset.class_indices)\n",
    "print(\"Number of classes:\", num_classes)\n"
   ]
  },
  {
   "cell_type": "code",
   "execution_count": 7,
   "id": "2b1a9255",
   "metadata": {},
   "outputs": [
    {
     "name": "stdout",
     "output_type": "stream",
     "text": [
      "Class names: ['300', '340', '380', '420', '460', '500', '540', '580', '620', '660', '700', '740', '780', '820', '860', '900']\n"
     ]
    }
   ],
   "source": [
    "# Print the names of the classes\n",
    "class_names = list(train_dataset.class_indices.keys())\n",
    "print(\"Class names:\", class_names)\n"
   ]
  },
  {
   "cell_type": "code",
   "execution_count": 8,
   "id": "f29b84c8",
   "metadata": {},
   "outputs": [
    {
     "name": "stdout",
     "output_type": "stream",
     "text": [
      "Number of training images: 7584\n",
      "Number of validation images: 1072\n"
     ]
    }
   ],
   "source": [
    "# Print the number of training and validation images\n",
    "print(\"Number of training images:\", train_dataset.n)\n",
    "print(\"Number of validation images:\", validation_dataset.n)\n"
   ]
  },
  {
   "cell_type": "code",
   "execution_count": 9,
   "id": "f395df5b",
   "metadata": {},
   "outputs": [],
   "source": [
    "\n",
    "model = Sequential([\n",
    "    Conv2D(32, (3, 3), activation='relu', input_shape=(24, 24, 3)),\n",
    "    MaxPooling2D((2, 2)),\n",
    "    Conv2D(64, (3, 3), activation='relu'),\n",
    "    MaxPooling2D((2, 2)),\n",
    "    Conv2D(128, (3, 3), activation='relu'),\n",
    "    MaxPooling2D((2, 2)),\n",
    "    Flatten(),\n",
    "    Dense(128, activation='relu'),\n",
    "    Dropout(0.5),\n",
    "    Dense(16, activation='softmax')\n",
    "])\n"
   ]
  },
  {
   "cell_type": "code",
   "execution_count": 10,
   "id": "e153bacc",
   "metadata": {},
   "outputs": [],
   "source": [
    "# Compile the model\n",
    "opt = tf.keras.optimizers.Adam(learning_rate=0.0001)  \n",
    "model.compile(\n",
    "    optimizer=opt,\n",
    "    loss='categorical_crossentropy', \n",
    "    metrics=['accuracy']\n",
    ")"
   ]
  },
  {
   "cell_type": "code",
   "execution_count": 11,
   "id": "ba661c25",
   "metadata": {},
   "outputs": [
    {
     "name": "stdout",
     "output_type": "stream",
     "text": [
      "Model: \"sequential\"\n",
      "_________________________________________________________________\n",
      " Layer (type)                Output Shape              Param #   \n",
      "=================================================================\n",
      " conv2d (Conv2D)             (None, 22, 22, 32)        896       \n",
      "                                                                 \n",
      " max_pooling2d (MaxPooling2D  (None, 11, 11, 32)       0         \n",
      " )                                                               \n",
      "                                                                 \n",
      " conv2d_1 (Conv2D)           (None, 9, 9, 64)          18496     \n",
      "                                                                 \n",
      " max_pooling2d_1 (MaxPooling  (None, 4, 4, 64)         0         \n",
      " 2D)                                                             \n",
      "                                                                 \n",
      " conv2d_2 (Conv2D)           (None, 2, 2, 128)         73856     \n",
      "                                                                 \n",
      " max_pooling2d_2 (MaxPooling  (None, 1, 1, 128)        0         \n",
      " 2D)                                                             \n",
      "                                                                 \n",
      " flatten (Flatten)           (None, 128)               0         \n",
      "                                                                 \n",
      " dense (Dense)               (None, 128)               16512     \n",
      "                                                                 \n",
      " dropout (Dropout)           (None, 128)               0         \n",
      "                                                                 \n",
      " dense_1 (Dense)             (None, 16)                2064      \n",
      "                                                                 \n",
      "=================================================================\n",
      "Total params: 111,824\n",
      "Trainable params: 111,824\n",
      "Non-trainable params: 0\n",
      "_________________________________________________________________\n",
      "None\n"
     ]
    }
   ],
   "source": [
    "print(model.summary())"
   ]
  },
  {
   "cell_type": "code",
   "execution_count": 12,
   "id": "8b7a0622",
   "metadata": {},
   "outputs": [],
   "source": [
    "# Define the checkpoint callback to save the model with the minimum loss\n",
    "checkpoint_callback = ModelCheckpoint('corneal_color_model.h5', \n",
    "                                      monitor='val_loss', \n",
    "                                      mode=\"min\",\n",
    "                                      save_best_only=True)"
   ]
  },
  {
   "cell_type": "code",
   "execution_count": 13,
   "id": "1367bfa9",
   "metadata": {},
   "outputs": [],
   "source": [
    "# Define early stopping callback\n",
    "early_stopping_callback = EarlyStopping(\n",
    "    monitor='val_loss',  \n",
    "    patience=5,          \n",
    "    verbose=1,            \n",
    "    restore_best_weights=True  \n",
    ")"
   ]
  },
  {
   "cell_type": "code",
   "execution_count": 14,
   "id": "d42eb3df",
   "metadata": {},
   "outputs": [
    {
     "name": "stdout",
     "output_type": "stream",
     "text": [
      "Epoch 1/100\n",
      "253/253 [==============================] - 13s 41ms/step - loss: 2.6750 - accuracy: 0.1644 - val_loss: 2.4491 - val_accuracy: 0.3750\n",
      "Epoch 2/100\n",
      "253/253 [==============================] - 8s 30ms/step - loss: 2.2171 - accuracy: 0.2393 - val_loss: 1.7965 - val_accuracy: 0.5000\n",
      "Epoch 3/100\n",
      "253/253 [==============================] - 8s 32ms/step - loss: 1.7644 - accuracy: 0.3465 - val_loss: 1.3100 - val_accuracy: 0.5625\n",
      "Epoch 4/100\n",
      "253/253 [==============================] - 8s 31ms/step - loss: 1.4639 - accuracy: 0.4350 - val_loss: 1.0514 - val_accuracy: 0.7500\n",
      "Epoch 5/100\n",
      "253/253 [==============================] - 8s 33ms/step - loss: 1.2534 - accuracy: 0.5158 - val_loss: 0.8419 - val_accuracy: 0.8125\n",
      "Epoch 6/100\n",
      "253/253 [==============================] - 9s 36ms/step - loss: 1.0638 - accuracy: 0.5948 - val_loss: 0.6870 - val_accuracy: 0.9375\n",
      "Epoch 7/100\n",
      "253/253 [==============================] - 10s 38ms/step - loss: 0.9223 - accuracy: 0.6421 - val_loss: 0.5616 - val_accuracy: 0.8750\n",
      "Epoch 8/100\n",
      "253/253 [==============================] - 10s 40ms/step - loss: 0.8145 - accuracy: 0.6929 - val_loss: 0.4696 - val_accuracy: 0.8750\n",
      "Epoch 9/100\n",
      "253/253 [==============================] - 11s 43ms/step - loss: 0.6985 - accuracy: 0.7406 - val_loss: 0.4255 - val_accuracy: 0.8750\n",
      "Epoch 10/100\n",
      "253/253 [==============================] - 12s 47ms/step - loss: 0.6234 - accuracy: 0.7745 - val_loss: 0.3632 - val_accuracy: 0.8750\n",
      "Epoch 11/100\n",
      "253/253 [==============================] - 13s 52ms/step - loss: 0.5499 - accuracy: 0.8000 - val_loss: 0.3099 - val_accuracy: 0.8750\n",
      "Epoch 12/100\n",
      "253/253 [==============================] - 14s 57ms/step - loss: 0.4934 - accuracy: 0.8220 - val_loss: 0.2351 - val_accuracy: 0.9375\n",
      "Epoch 13/100\n",
      "253/253 [==============================] - 14s 56ms/step - loss: 0.4444 - accuracy: 0.8419 - val_loss: 0.2304 - val_accuracy: 0.9375\n",
      "Epoch 14/100\n",
      "253/253 [==============================] - 14s 56ms/step - loss: 0.3732 - accuracy: 0.8717 - val_loss: 0.2224 - val_accuracy: 0.9375\n",
      "Epoch 15/100\n",
      "253/253 [==============================] - 14s 57ms/step - loss: 0.3609 - accuracy: 0.8705 - val_loss: 0.1681 - val_accuracy: 0.9375\n",
      "Epoch 16/100\n",
      "253/253 [==============================] - 14s 57ms/step - loss: 0.3244 - accuracy: 0.8774 - val_loss: 0.1591 - val_accuracy: 0.9375\n",
      "Epoch 17/100\n",
      "253/253 [==============================] - 14s 54ms/step - loss: 0.3008 - accuracy: 0.8845 - val_loss: 0.1372 - val_accuracy: 0.9375\n",
      "Epoch 18/100\n",
      "253/253 [==============================] - 12s 49ms/step - loss: 0.2903 - accuracy: 0.8824 - val_loss: 0.1232 - val_accuracy: 0.9375\n",
      "Epoch 19/100\n",
      "253/253 [==============================] - 11s 42ms/step - loss: 0.2466 - accuracy: 0.9037 - val_loss: 0.1563 - val_accuracy: 0.9375\n",
      "Epoch 20/100\n",
      "253/253 [==============================] - 10s 41ms/step - loss: 0.2472 - accuracy: 0.9057 - val_loss: 0.1852 - val_accuracy: 0.8750\n",
      "Epoch 21/100\n",
      "253/253 [==============================] - 12s 48ms/step - loss: 0.2287 - accuracy: 0.9028 - val_loss: 0.1020 - val_accuracy: 0.9375\n",
      "Epoch 22/100\n",
      "253/253 [==============================] - 14s 54ms/step - loss: 0.1979 - accuracy: 0.9198 - val_loss: 0.1380 - val_accuracy: 0.9375\n",
      "Epoch 23/100\n",
      "253/253 [==============================] - 14s 56ms/step - loss: 0.2102 - accuracy: 0.9113 - val_loss: 0.1200 - val_accuracy: 0.9375\n",
      "Epoch 24/100\n",
      "253/253 [==============================] - 15s 61ms/step - loss: 0.1874 - accuracy: 0.9235 - val_loss: 0.1041 - val_accuracy: 0.9375\n",
      "Epoch 25/100\n",
      "253/253 [==============================] - 19s 76ms/step - loss: 0.2062 - accuracy: 0.9114 - val_loss: 0.1955 - val_accuracy: 0.8750\n",
      "Epoch 26/100\n",
      "253/253 [==============================] - 15s 59ms/step - loss: 0.1830 - accuracy: 0.9208 - val_loss: 0.0931 - val_accuracy: 0.9375\n",
      "Epoch 27/100\n",
      "253/253 [==============================] - 15s 60ms/step - loss: 0.1546 - accuracy: 0.9366 - val_loss: 0.0854 - val_accuracy: 0.9375\n",
      "Epoch 28/100\n",
      "253/253 [==============================] - 16s 62ms/step - loss: 0.1554 - accuracy: 0.9293 - val_loss: 0.1095 - val_accuracy: 0.9375\n",
      "Epoch 29/100\n",
      "253/253 [==============================] - 14s 54ms/step - loss: 0.1770 - accuracy: 0.9229 - val_loss: 0.1204 - val_accuracy: 0.9375\n",
      "Epoch 30/100\n",
      "253/253 [==============================] - 15s 59ms/step - loss: 0.1604 - accuracy: 0.9252 - val_loss: 0.0996 - val_accuracy: 0.9375\n",
      "Epoch 31/100\n",
      "253/253 [==============================] - 17s 68ms/step - loss: 0.1323 - accuracy: 0.9412 - val_loss: 0.0757 - val_accuracy: 0.9375\n",
      "Epoch 32/100\n",
      "253/253 [==============================] - 22s 88ms/step - loss: 0.1380 - accuracy: 0.9390 - val_loss: 0.1086 - val_accuracy: 0.9375\n",
      "Epoch 33/100\n",
      "253/253 [==============================] - 22s 89ms/step - loss: 0.1406 - accuracy: 0.9281 - val_loss: 0.0892 - val_accuracy: 0.9375\n",
      "Epoch 34/100\n",
      "253/253 [==============================] - 22s 87ms/step - loss: 0.1406 - accuracy: 0.9331 - val_loss: 0.0762 - val_accuracy: 0.9375\n",
      "Epoch 35/100\n",
      "253/253 [==============================] - 17s 68ms/step - loss: 0.1170 - accuracy: 0.9494 - val_loss: 0.0841 - val_accuracy: 0.9375\n",
      "Epoch 36/100\n",
      "252/253 [============================>.] - ETA: 0s - loss: 0.1529 - accuracy: 0.9328Restoring model weights from the end of the best epoch: 31.\n",
      "253/253 [==============================] - 15s 60ms/step - loss: 0.1594 - accuracy: 0.9293 - val_loss: 0.1069 - val_accuracy: 0.9375\n",
      "Epoch 36: early stopping\n"
     ]
    }
   ],
   "source": [
    "# Train the model with the checkpoint callback\n",
    "history = model.fit(train_dataset,\n",
    "                    batch_size=10,\n",
    "                    epochs=100, \n",
    "                    validation_data=validation_dataset, \n",
    "                    callbacks=[checkpoint_callback,early_stopping_callback])"
   ]
  },
  {
   "cell_type": "code",
   "execution_count": 15,
   "id": "ee5af967",
   "metadata": {},
   "outputs": [
    {
     "name": "stdout",
     "output_type": "stream",
     "text": [
      "253/253 [==============================] - 12s 46ms/step - loss: 0.0757 - accuracy: 0.9375\n",
      "Train Accuracy: 93.75%\n",
      "Train Loss: 0.08\n"
     ]
    }
   ],
   "source": [
    "# Evaluate the model on the train dataset\n",
    "\n",
    "model = tf.keras.models.load_model(r'corneal_color_model.h5')\n",
    "loss, accuracy = model.evaluate(train_dataset)\n",
    "print('Train Accuracy: {:.2f}%'.format(accuracy*100))\n",
    "print('Train Loss: {:.2f}'.format(loss))\n"
   ]
  },
  {
   "cell_type": "code",
   "execution_count": 16,
   "id": "71e5c77d",
   "metadata": {},
   "outputs": [
    {
     "data": {
      "image/png": "[encoded data removed]",
      "text/plain": [
       "<Figure size 600x600 with 1 Axes>"
      ]
     },
     "metadata": {},
     "output_type": "display_data"
    }
   ],
   "source": [
    "# Plot accuracy vs. epochs\n",
    "plt.figure(figsize=(6, 6))\n",
    "plt.plot(history.history['accuracy'], label='Training Accuracy')\n",
    "plt.plot(history.history['val_accuracy'], label='Validation Accuracy')\n",
    "plt.xlabel('Epochs')\n",
    "plt.ylabel('Accuracy')\n",
    "plt.title('Accuracy vs. Epochs')\n",
    "plt.legend()\n",
    "plt.savefig('accuracy_vs_epochs.png') "
   ]
  },
  {
   "cell_type": "code",
   "execution_count": 17,
   "id": "a29ac941",
   "metadata": {},
   "outputs": [
    {
     "data": {
      "image/png": "[encoded data removed]",
      "text/plain": [
       "<Figure size 600x600 with 1 Axes>"
      ]
     },
     "metadata": {},
     "output_type": "display_data"
    }
   ],
   "source": [
    "# Plot loss vs. epochs\n",
    "plt.figure(figsize=(6, 6))\n",
    "plt.plot(history.history['loss'], label='Training Loss')\n",
    "plt.plot(history.history['val_loss'], label='Validation Loss')\n",
    "plt.xlabel('Epochs')\n",
    "plt.ylabel('Loss')\n",
    "plt.title('Loss vs. Epochs')\n",
    "plt.legend()\n",
    "plt.savefig('loss_vs_epochs.png')  \n",
    "plt.show()"
   ]
  },
  {
   "cell_type": "code",
   "execution_count": 19,
   "id": "0fb30b49",
   "metadata": {},
   "outputs": [
    {
     "name": "stdout",
     "output_type": "stream",
     "text": [
      "72/72 [==============================] - 6s 73ms/step - loss: 0.0757 - accuracy: 0.9375\n",
      "Test Accuracy: 93.75%\n",
      "Test Loss: 0.08\n"
     ]
    }
   ],
   "source": [
    "# Load the saved model\n",
    "model = tf.keras.models.load_model(r'corneal_color_model.h5')\n",
    "\n",
    "# Evaluate the model on the test dataset\n",
    "loss, accuracy = model.evaluate(testing_dataset)\n",
    "print('Test Accuracy: {:.2f}%'.format(accuracy*100))\n",
    "print('Test Loss: {:.2f}'.format(loss))\n"
   ]
  },
  {
   "cell_type": "code",
   "execution_count": null,
   "id": "a0ce6276",
   "metadata": {},
   "outputs": [],
   "source": []
  }
 ],
 "metadata": {
  "kernelspec": {
   "display_name": "Python 3 (ipykernel)",
   "language": "python",
   "name": "python3"
  },
  "language_info": {
   "codemirror_mode": {
    "name": "ipython",
    "version": 3
   },
   "file_extension": ".py",
   "mimetype": "text/x-python",
   "name": "python",
   "nbconvert_exporter": "python",
   "pygments_lexer": "ipython3",
   "version": "3.11.5"
  }
 },
 "nbformat": 4,
 "nbformat_minor": 5
}
