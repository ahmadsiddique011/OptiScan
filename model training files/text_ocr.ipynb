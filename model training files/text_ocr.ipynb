{
 "cells": [
  {
   "cell_type": "code",
   "execution_count": 1,
   "id": "82c3e408",
   "metadata": {},
   "outputs": [],
   "source": [
    "import numpy as np\n",
    "import os, requests, cv2, random\n",
    "import matplotlib.pyplot as plt\n",
    "import pandas as pd\n",
    "import tensorflow as tf\n",
    "from tensorflow.keras.preprocessing.image import ImageDataGenerator\n",
    "from tensorflow.keras.models import Sequential\n",
    "from tensorflow.keras.layers import Conv2D\n",
    "from tensorflow.keras.layers import MaxPooling2D\n",
    "from tensorflow.keras.layers import Flatten\n",
    "from tensorflow.keras.layers import Dense\n",
    "from tensorflow.keras.layers import Dropout\n",
    "from tensorflow.keras.layers import BatchNormalization\n",
    "from tensorflow.keras.callbacks import ModelCheckpoint\n",
    "from tensorflow.keras.callbacks import CSVLogger\n",
    "from tensorflow.keras.callbacks import EarlyStopping\n",
    "from tensorflow.keras.optimizers import Adam"
   ]
  },
  {
   "cell_type": "code",
   "execution_count": 21,
   "id": "e0f65d6f",
   "metadata": {},
   "outputs": [],
   "source": [
    "\n",
    "# Create an instance of the ImageDataGenerator\n",
    "train_datagen = ImageDataGenerator(\n",
    "    rescale=1./255,\n",
    "    rotation_range=360,\n",
    "    width_shift_range=0.3,\n",
    "    height_shift_range=0.3,\n",
    "    shear_range=0.3,\n",
    "    zoom_range=0.3,\n",
    "    horizontal_flip=True,\n",
    "    vertical_flip=True,\n",
    "    fill_mode='nearest'\n",
    ")\n",
    "\n",
    "valid_datagen = ImageDataGenerator(    \n",
    "    rescale=1./255,\n",
    "    rotation_range=360,\n",
    "    width_shift_range=0.3,\n",
    "    height_shift_range=0.3,\n",
    "    shear_range=0.3,\n",
    "    zoom_range=0.3,\n",
    "    horizontal_flip=True,\n",
    "    vertical_flip=True,\n",
    "    fill_mode='nearest'\n",
    ")\n",
    "test_datagen = ImageDataGenerator(\n",
    "    rescale=1./255,\n",
    "    rotation_range=360,\n",
    "    width_shift_range=0.3,\n",
    "    height_shift_range=0.3,\n",
    "    shear_range=0.3,\n",
    "    zoom_range=0.3,\n",
    "    horizontal_flip=True,\n",
    "    vertical_flip=True,\n",
    "    fill_mode='nearest'\n",
    ")\n",
    "\n",
    "training_dir = r'D:\\DATASET\\text_ocr\\dataset\\train'\n",
    "validation_dir = r'D:\\DATASET\\text_ocr\\dataset\\validation'\n",
    "testing_dir = r'D:\\DATASET\\text_ocr\\dataset\\test'"
   ]
  },
  {
   "cell_type": "code",
   "execution_count": 22,
   "id": "c90b50d7",
   "metadata": {},
   "outputs": [
    {
     "name": "stdout",
     "output_type": "stream",
     "text": [
      "Found 9800 images belonging to 10 classes.\n",
      "Found 1400 images belonging to 10 classes.\n",
      "Found 2800 images belonging to 10 classes.\n"
     ]
    }
   ],
   "source": [
    "# Load the training dataset using the ImageDataGenerator\n",
    "train_dataset = train_datagen.flow_from_directory(\n",
    "    training_dir,\n",
    "    target_size=(32, 32),\n",
    "    batch_size=20,\n",
    "    class_mode='categorical',\n",
    "    shuffle=False,\n",
    "    seed=42\n",
    ")\n",
    "\n",
    "\n",
    "# Load the validation dataset using the ImageDataGenerator\n",
    "validation_dataset = valid_datagen.flow_from_directory(\n",
    "    validation_dir,\n",
    "    target_size=(32, 32),  \n",
    "    batch_size=20,\n",
    "    class_mode='categorical',\n",
    "    shuffle=False,\n",
    "    seed=42\n",
    ")\n",
    "\n",
    "# Load the validation dataset using the ImageDataGenerator\n",
    "testing_dataset = valid_datagen.flow_from_directory(\n",
    "    testing_dir,\n",
    "    target_size=(32, 32),  \n",
    "    batch_size=20,\n",
    "    class_mode='categorical',\n",
    "    shuffle=False,\n",
    "    seed=42\n",
    ")"
   ]
  },
  {
   "cell_type": "code",
   "execution_count": 5,
   "id": "a64fa8de",
   "metadata": {},
   "outputs": [
    {
     "name": "stdout",
     "output_type": "stream",
     "text": [
      "Number of classes: 10\n"
     ]
    }
   ],
   "source": [
    "# Print the number of classes in the dataset\n",
    "num_classes = len(train_dataset.class_indices)\n",
    "print(\"Number of classes:\", num_classes)"
   ]
  },
  {
   "cell_type": "code",
   "execution_count": 6,
   "id": "325770bf",
   "metadata": {},
   "outputs": [
    {
     "name": "stdout",
     "output_type": "stream",
     "text": [
      "Class names: ['0', '1', '2', '3', '4', '5', '6', '7', '8', '9']\n"
     ]
    }
   ],
   "source": [
    "# Print the names of the classes\n",
    "class_names = list(train_dataset.class_indices.keys())\n",
    "print(\"Class names:\", class_names)\n"
   ]
  },
  {
   "cell_type": "code",
   "execution_count": 7,
   "id": "db646057",
   "metadata": {},
   "outputs": [
    {
     "name": "stdout",
     "output_type": "stream",
     "text": [
      "Number of training images: 9800\n",
      "Number of validation images: 1400\n",
      "Number of testing images: 2800\n"
     ]
    }
   ],
   "source": [
    "# Print the number of training and validation images\n",
    "print(\"Number of training images:\", train_dataset.n)\n",
    "print(\"Number of validation images:\", validation_dataset.n)\n",
    "print(\"Number of testing images:\", testing_dataset.n)"
   ]
  },
  {
   "cell_type": "code",
   "execution_count": 8,
   "id": "bbed90ad",
   "metadata": {},
   "outputs": [],
   "source": [
    "model = Sequential([\n",
    "    Conv2D(32, (3, 3), activation='relu', input_shape=(32, 32, 3)),\n",
    "    MaxPooling2D((2, 2)),\n",
    "    Conv2D(64, (3, 3), activation='relu'),\n",
    "    MaxPooling2D((2, 2)),\n",
    "    Conv2D(128, (3, 3), activation='relu'),\n",
    "    MaxPooling2D((2, 2)),\n",
    "    Flatten(),\n",
    "    Dense(128, activation='relu'),\n",
    "    Dropout(0.5),\n",
    "    Dense(10, activation='softmax')\n",
    "])"
   ]
  },
  {
   "cell_type": "code",
   "execution_count": 9,
   "id": "5bd32c6b",
   "metadata": {},
   "outputs": [
    {
     "name": "stdout",
     "output_type": "stream",
     "text": [
      "Model: \"sequential\"\n",
      "_________________________________________________________________\n",
      " Layer (type)                Output Shape              Param #   \n",
      "=================================================================\n",
      " conv2d (Conv2D)             (None, 30, 30, 32)        896       \n",
      "                                                                 \n",
      " max_pooling2d (MaxPooling2D  (None, 15, 15, 32)       0         \n",
      " )                                                               \n",
      "                                                                 \n",
      " conv2d_1 (Conv2D)           (None, 13, 13, 64)        18496     \n",
      "                                                                 \n",
      " max_pooling2d_1 (MaxPooling  (None, 6, 6, 64)         0         \n",
      " 2D)                                                             \n",
      "                                                                 \n",
      " conv2d_2 (Conv2D)           (None, 4, 4, 128)         73856     \n",
      "                                                                 \n",
      " max_pooling2d_2 (MaxPooling  (None, 2, 2, 128)        0         \n",
      " 2D)                                                             \n",
      "                                                                 \n",
      " flatten (Flatten)           (None, 512)               0         \n",
      "                                                                 \n",
      " dense (Dense)               (None, 128)               65664     \n",
      "                                                                 \n",
      " dropout (Dropout)           (None, 128)               0         \n",
      "                                                                 \n",
      " dense_1 (Dense)             (None, 10)                1290      \n",
      "                                                                 \n",
      "=================================================================\n",
      "Total params: 160,202\n",
      "Trainable params: 160,202\n",
      "Non-trainable params: 0\n",
      "_________________________________________________________________\n",
      "None\n"
     ]
    }
   ],
   "source": [
    "print(model.summary())"
   ]
  },
  {
   "cell_type": "code",
   "execution_count": 10,
   "id": "2f5a0c8b",
   "metadata": {},
   "outputs": [],
   "source": [
    "model.compile(optimizer='adam',\n",
    "              loss='categorical_crossentropy',\n",
    "              metrics=['accuracy'])"
   ]
  },
  {
   "cell_type": "code",
   "execution_count": 11,
   "id": "1a0a32b7",
   "metadata": {},
   "outputs": [],
   "source": [
    "# Define the checkpoint callback to save the model with the minimum loss\n",
    "checkpoint_callback = ModelCheckpoint('text.h5', \n",
    "                                      monitor='val_loss', \n",
    "                                      save_best_only=True)"
   ]
  },
  {
   "cell_type": "code",
   "execution_count": 12,
   "id": "989b2185",
   "metadata": {},
   "outputs": [],
   "source": [
    "# Define early stopping callback\n",
    "early_stopping_callback = EarlyStopping(\n",
    "    monitor='val_loss',    \n",
    "    patience = 20,        \n",
    "    verbose=1,            \n",
    "    restore_best_weights=True  \n",
    ")"
   ]
  },
  {
   "cell_type": "code",
   "execution_count": 13,
   "id": "8863ce5d",
   "metadata": {},
   "outputs": [
    {
     "name": "stdout",
     "output_type": "stream",
     "text": [
      "Epoch 1/1000\n",
      "490/490 [==============================] - 15s 27ms/step - loss: 2.3108 - accuracy: 0.0971 - val_loss: 2.3030 - val_accuracy: 0.1000\n",
      "Epoch 2/1000\n",
      "490/490 [==============================] - 13s 26ms/step - loss: 2.3078 - accuracy: 0.0977 - val_loss: 2.2996 - val_accuracy: 0.1586\n",
      "Epoch 3/1000\n",
      "490/490 [==============================] - 13s 27ms/step - loss: 2.2914 - accuracy: 0.1332 - val_loss: 2.2029 - val_accuracy: 0.1871\n",
      "Epoch 4/1000\n",
      "490/490 [==============================] - 14s 29ms/step - loss: 2.1564 - accuracy: 0.1819 - val_loss: 1.7910 - val_accuracy: 0.3850\n",
      "Epoch 5/1000\n",
      "490/490 [==============================] - 15s 31ms/step - loss: 1.8383 - accuracy: 0.2914 - val_loss: 1.4398 - val_accuracy: 0.4336\n",
      "Epoch 6/1000\n",
      "490/490 [==============================] - 17s 35ms/step - loss: 1.5118 - accuracy: 0.4167 - val_loss: 1.4162 - val_accuracy: 0.4257\n",
      "Epoch 7/1000\n",
      "490/490 [==============================] - 18s 36ms/step - loss: 1.1694 - accuracy: 0.5348 - val_loss: 1.2117 - val_accuracy: 0.4636\n",
      "Epoch 8/1000\n",
      "490/490 [==============================] - 16s 32ms/step - loss: 0.9215 - accuracy: 0.6195 - val_loss: 0.7022 - val_accuracy: 0.6871\n",
      "Epoch 9/1000\n",
      "490/490 [==============================] - 15s 30ms/step - loss: 0.8290 - accuracy: 0.6510 - val_loss: 1.0055 - val_accuracy: 0.6429\n",
      "Epoch 10/1000\n",
      "490/490 [==============================] - 14s 28ms/step - loss: 0.6959 - accuracy: 0.7105 - val_loss: 0.4233 - val_accuracy: 0.8386\n",
      "Epoch 11/1000\n",
      "490/490 [==============================] - 13s 26ms/step - loss: 0.6248 - accuracy: 0.7418 - val_loss: 0.5463 - val_accuracy: 0.7800\n",
      "Epoch 12/1000\n",
      "490/490 [==============================] - 13s 26ms/step - loss: 0.5790 - accuracy: 0.7610 - val_loss: 0.3646 - val_accuracy: 0.8093\n",
      "Epoch 13/1000\n",
      "490/490 [==============================] - 13s 26ms/step - loss: 0.4706 - accuracy: 0.7896 - val_loss: 0.3223 - val_accuracy: 0.8400\n",
      "Epoch 14/1000\n",
      "490/490 [==============================] - 14s 28ms/step - loss: 0.4077 - accuracy: 0.8249 - val_loss: 0.3914 - val_accuracy: 0.8121\n",
      "Epoch 15/1000\n",
      "490/490 [==============================] - 14s 28ms/step - loss: 0.3842 - accuracy: 0.8294 - val_loss: 0.3607 - val_accuracy: 0.8407\n",
      "Epoch 16/1000\n",
      "490/490 [==============================] - 15s 30ms/step - loss: 0.3740 - accuracy: 0.8255 - val_loss: 0.6278 - val_accuracy: 0.7686\n",
      "Epoch 17/1000\n",
      "490/490 [==============================] - 16s 33ms/step - loss: 0.3752 - accuracy: 0.8376 - val_loss: 0.2570 - val_accuracy: 0.8643\n",
      "Epoch 18/1000\n",
      "490/490 [==============================] - 17s 34ms/step - loss: 0.3385 - accuracy: 0.8370 - val_loss: 0.2420 - val_accuracy: 0.8543\n",
      "Epoch 19/1000\n",
      "490/490 [==============================] - 15s 31ms/step - loss: 0.3340 - accuracy: 0.8532 - val_loss: 0.2384 - val_accuracy: 0.8729\n",
      "Epoch 20/1000\n",
      "490/490 [==============================] - 14s 29ms/step - loss: 0.3196 - accuracy: 0.8437 - val_loss: 0.2547 - val_accuracy: 0.8643\n",
      "Epoch 21/1000\n",
      "490/490 [==============================] - 14s 28ms/step - loss: 0.3029 - accuracy: 0.8611 - val_loss: 0.2812 - val_accuracy: 0.8643\n",
      "Epoch 22/1000\n",
      "490/490 [==============================] - 13s 27ms/step - loss: 0.3027 - accuracy: 0.8527 - val_loss: 0.2179 - val_accuracy: 0.8700\n",
      "Epoch 23/1000\n",
      "490/490 [==============================] - 13s 27ms/step - loss: 0.3165 - accuracy: 0.8545 - val_loss: 0.1953 - val_accuracy: 0.8879\n",
      "Epoch 24/1000\n",
      "490/490 [==============================] - 13s 27ms/step - loss: 0.2961 - accuracy: 0.8488 - val_loss: 0.2229 - val_accuracy: 0.8700\n",
      "Epoch 25/1000\n",
      "490/490 [==============================] - 14s 28ms/step - loss: 0.2983 - accuracy: 0.8659 - val_loss: 0.5245 - val_accuracy: 0.8093\n",
      "Epoch 26/1000\n",
      "490/490 [==============================] - 15s 31ms/step - loss: 0.2993 - accuracy: 0.8633 - val_loss: 0.2287 - val_accuracy: 0.8671\n",
      "Epoch 27/1000\n",
      "490/490 [==============================] - 16s 34ms/step - loss: 0.2770 - accuracy: 0.8580 - val_loss: 0.1834 - val_accuracy: 0.8850\n",
      "Epoch 28/1000\n",
      "490/490 [==============================] - 18s 36ms/step - loss: 0.2771 - accuracy: 0.8553 - val_loss: 0.3154 - val_accuracy: 0.8343\n",
      "Epoch 29/1000\n",
      "490/490 [==============================] - 16s 33ms/step - loss: 0.2885 - accuracy: 0.8606 - val_loss: 0.1740 - val_accuracy: 0.8964\n",
      "Epoch 30/1000\n",
      "490/490 [==============================] - 15s 30ms/step - loss: 0.2844 - accuracy: 0.8580 - val_loss: 0.2579 - val_accuracy: 0.8664\n",
      "Epoch 31/1000\n",
      "490/490 [==============================] - 14s 29ms/step - loss: 0.2829 - accuracy: 0.8572 - val_loss: 0.2635 - val_accuracy: 0.8479\n",
      "Epoch 32/1000\n",
      "490/490 [==============================] - 13s 27ms/step - loss: 0.2700 - accuracy: 0.8784 - val_loss: 0.1815 - val_accuracy: 0.8900\n",
      "Epoch 33/1000\n",
      "490/490 [==============================] - 13s 27ms/step - loss: 0.2723 - accuracy: 0.8593 - val_loss: 0.1576 - val_accuracy: 0.8979\n",
      "Epoch 34/1000\n",
      "490/490 [==============================] - 13s 26ms/step - loss: 0.2632 - accuracy: 0.8643 - val_loss: 0.1929 - val_accuracy: 0.8993\n",
      "Epoch 35/1000\n",
      "490/490 [==============================] - 14s 28ms/step - loss: 0.2697 - accuracy: 0.8672 - val_loss: 0.1765 - val_accuracy: 0.8900\n",
      "Epoch 36/1000\n",
      "490/490 [==============================] - 15s 31ms/step - loss: 0.2679 - accuracy: 0.8618 - val_loss: 0.1935 - val_accuracy: 0.8929\n",
      "Epoch 37/1000\n",
      "490/490 [==============================] - 17s 34ms/step - loss: 0.2769 - accuracy: 0.8601 - val_loss: 0.1930 - val_accuracy: 0.8886\n",
      "Epoch 38/1000\n",
      "490/490 [==============================] - 19s 38ms/step - loss: 0.2586 - accuracy: 0.8706 - val_loss: 0.2774 - val_accuracy: 0.8486\n",
      "Epoch 39/1000\n",
      "490/490 [==============================] - 19s 39ms/step - loss: 0.2646 - accuracy: 0.8707 - val_loss: 0.1750 - val_accuracy: 0.9007\n",
      "Epoch 40/1000\n",
      "490/490 [==============================] - 16s 33ms/step - loss: 0.2502 - accuracy: 0.8671 - val_loss: 0.1646 - val_accuracy: 0.8936\n",
      "Epoch 41/1000\n",
      "490/490 [==============================] - 15s 31ms/step - loss: 0.2631 - accuracy: 0.8612 - val_loss: 0.1953 - val_accuracy: 0.8836\n",
      "Epoch 42/1000\n",
      "490/490 [==============================] - 14s 29ms/step - loss: 0.2565 - accuracy: 0.8585 - val_loss: 0.1590 - val_accuracy: 0.8964\n",
      "Epoch 43/1000\n",
      "490/490 [==============================] - 14s 29ms/step - loss: 0.2468 - accuracy: 0.8836 - val_loss: 0.1775 - val_accuracy: 0.8993\n",
      "Epoch 44/1000\n",
      "490/490 [==============================] - 14s 29ms/step - loss: 0.2372 - accuracy: 0.8727 - val_loss: 0.2088 - val_accuracy: 0.8864\n",
      "Epoch 45/1000\n",
      "490/490 [==============================] - 14s 28ms/step - loss: 0.2706 - accuracy: 0.8619 - val_loss: 0.1594 - val_accuracy: 0.9000\n",
      "Epoch 46/1000\n",
      "490/490 [==============================] - 12s 25ms/step - loss: 0.2641 - accuracy: 0.8664 - val_loss: 0.1858 - val_accuracy: 0.8893\n",
      "Epoch 47/1000\n",
      "490/490 [==============================] - 13s 26ms/step - loss: 0.2553 - accuracy: 0.8709 - val_loss: 0.1653 - val_accuracy: 0.9079\n",
      "Epoch 48/1000\n",
      "490/490 [==============================] - 13s 26ms/step - loss: 0.2415 - accuracy: 0.8763 - val_loss: 0.1631 - val_accuracy: 0.8979\n",
      "Epoch 49/1000\n",
      "490/490 [==============================] - 13s 27ms/step - loss: 0.2513 - accuracy: 0.8678 - val_loss: 0.1997 - val_accuracy: 0.8836\n",
      "Epoch 50/1000\n",
      "490/490 [==============================] - 15s 30ms/step - loss: 0.2493 - accuracy: 0.8701 - val_loss: 0.1739 - val_accuracy: 0.8929\n",
      "Epoch 51/1000\n",
      "490/490 [==============================] - 15s 31ms/step - loss: 0.2530 - accuracy: 0.8691 - val_loss: 0.1827 - val_accuracy: 0.9000\n",
      "Epoch 52/1000\n",
      "490/490 [==============================] - 15s 30ms/step - loss: 0.2407 - accuracy: 0.8789 - val_loss: 0.2012 - val_accuracy: 0.8993\n",
      "Epoch 53/1000\n",
      "488/490 [============================>.] - ETA: 0s - loss: 0.2371 - accuracy: 0.8701Restoring model weights from the end of the best epoch: 33.\n",
      "490/490 [==============================] - 14s 28ms/step - loss: 0.2385 - accuracy: 0.8705 - val_loss: 0.2176 - val_accuracy: 0.8821\n",
      "Epoch 53: early stopping\n"
     ]
    }
   ],
   "source": [
    "# Train the model with the checkpoint callback\n",
    "history = model.fit(train_dataset,\n",
    "                    batch_size=40,\n",
    "                    epochs=1000, \n",
    "                    validation_data=validation_dataset, \n",
    "                    callbacks=[checkpoint_callback, early_stopping_callback])\n"
   ]
  },
  {
   "cell_type": "code",
   "execution_count": 20,
   "id": "4a1fc82d",
   "metadata": {},
   "outputs": [
    {
     "name": "stdout",
     "output_type": "stream",
     "text": [
      "490/490 [==============================] - 11s 23ms/step - loss: 0.2367 - accuracy: 0.8779\n",
      "Train Accuracy: 87.79%\n",
      "Train Loss: 0.24\n"
     ]
    }
   ],
   "source": [
    "# Evaluate the model on the train dataset\n",
    "loss, accuracy = model.evaluate(train_dataset)\n",
    "print('Train Accuracy: {:.2f}%'.format(accuracy*100))\n",
    "print('Train Loss: {:.2f}'.format(loss))"
   ]
  },
  {
   "cell_type": "code",
   "execution_count": 14,
   "id": "4b1b4f24",
   "metadata": {},
   "outputs": [
    {
     "data": {
      "image/png": "[encoded data removed]",
      "text/plain": [
       "<Figure size 600x600 with 1 Axes>"
      ]
     },
     "metadata": {},
     "output_type": "display_data"
    }
   ],
   "source": [
    "# Plot accuracy vs. epochs\n",
    "plt.figure(figsize=(6, 6))\n",
    "plt.plot(history.history['accuracy'], label='Training Accuracy')\n",
    "plt.plot(history.history['val_accuracy'], label='Validation Accuracy')\n",
    "plt.xlabel('Epochs')\n",
    "plt.ylabel('Accuracy')\n",
    "plt.title('Accuracy vs. Epochs')\n",
    "plt.legend()\n",
    "plt.savefig('text_ocr_model_accuracy_vs_epochs.png') "
   ]
  },
  {
   "cell_type": "code",
   "execution_count": 15,
   "id": "b4f516df",
   "metadata": {},
   "outputs": [
    {
     "data": {
      "image/png": "[encoded data removed]",
      "text/plain": [
       "<Figure size 600x600 with 1 Axes>"
      ]
     },
     "metadata": {},
     "output_type": "display_data"
    }
   ],
   "source": [
    "# Plot loss vs. epochs\n",
    "plt.figure(figsize=(6, 6))\n",
    "plt.plot(history.history['loss'], label='Training Loss')\n",
    "plt.plot(history.history['val_loss'], label='Validation Loss')\n",
    "plt.xlabel('Epochs')\n",
    "plt.ylabel('Loss')\n",
    "plt.title('Loss vs. Epochs')\n",
    "plt.legend()\n",
    "plt.savefig('text_ocr_model_loss_vs_epochs.png')  \n",
    "plt.show()"
   ]
  },
  {
   "cell_type": "code",
   "execution_count": 23,
   "id": "4a309347",
   "metadata": {},
   "outputs": [
    {
     "name": "stdout",
     "output_type": "stream",
     "text": [
      "140/140 [==============================] - 3s 18ms/step - loss: 0.1769 - accuracy: 0.8814\n",
      "Test Accuracy: 88.14%\n",
      "Test Loss: 0.18\n",
      "140/140 [==============================] - 3s 18ms/step\n",
      "Classification Report:\n",
      "               precision    recall  f1-score   support\n",
      "\n",
      "           0       1.00      1.00      1.00       280\n",
      "           1       1.00      1.00      1.00       280\n",
      "           2       1.00      1.00      1.00       280\n",
      "           3       1.00      1.00      1.00       280\n",
      "           4       1.00      1.00      1.00       280\n",
      "           5       1.00      0.94      0.97       280\n",
      "           6       0.46      0.91      0.62       280\n",
      "           7       1.00      1.00      1.00       280\n",
      "           8       1.00      1.00      1.00       280\n",
      "           9       0.11      0.01      0.02       280\n",
      "\n",
      "    accuracy                           0.89      2800\n",
      "   macro avg       0.86      0.89      0.86      2800\n",
      "weighted avg       0.86      0.89      0.86      2800\n",
      "\n"
     ]
    }
   ],
   "source": [
    "# Load the saved model\n",
    "model = tf.keras.models.load_model(r'text.h5')\n",
    "\n",
    "# Evaluate the model on the test dataset\n",
    "loss, accuracy = model.evaluate(testing_dataset)\n",
    "print('Test Accuracy: {:.2f}%'.format(accuracy*100))\n",
    "print('Test Loss: {:.2f}'.format(loss))\n",
    "\n",
    "# Predict the classes for the test dataset\n",
    "predictions = model.predict(testing_dataset)\n",
    "predicted_classes = tf.argmax(predictions, axis=1)\n",
    "\n",
    "# Get true labels\n",
    "true_classes = testing_dataset.classes\n",
    "\n",
    "# Get class labels\n",
    "class_labels = list(testing_dataset.class_indices.keys())\n",
    "\n",
    "from sklearn.metrics import classification_report\n",
    "\n",
    "# Generate and print the classification report\n",
    "report = classification_report(true_classes, predicted_classes, target_names=class_labels)\n",
    "print(\"Classification Report:\\n\", report)"
   ]
  },
  {
   "cell_type": "code",
   "execution_count": null,
   "id": "6e153522",
   "metadata": {},
   "outputs": [],
   "source": []
  },
  {
   "cell_type": "code",
   "execution_count": null,
   "id": "94b67e2f",
   "metadata": {},
   "outputs": [],
   "source": []
  }
 ],
 "metadata": {
  "kernelspec": {
   "display_name": "Python 3 (ipykernel)",
   "language": "python",
   "name": "python3"
  },
  "language_info": {
   "codemirror_mode": {
    "name": "ipython",
    "version": 3
   },
   "file_extension": ".py",
   "mimetype": "text/x-python",
   "name": "python",
   "nbconvert_exporter": "python",
   "pygments_lexer": "ipython3",
   "version": "3.11.5"
  }
 },
 "nbformat": 4,
 "nbformat_minor": 5
}
