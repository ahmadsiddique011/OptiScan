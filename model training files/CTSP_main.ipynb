{
 "cells": [
  {
   "cell_type": "code",
   "execution_count": 1,
   "id": "cb57165b",
   "metadata": {},
   "outputs": [],
   "source": [
    "import numpy as np\n",
    "import os, requests, cv2, random\n",
    "import matplotlib.pyplot as plt\n",
    "import pandas as pd\n",
    "import tensorflow as tf\n",
    "from tensorflow.keras import layers\n",
    "from tensorflow.keras.preprocessing.image import ImageDataGenerator\n",
    "from tensorflow.keras.models import Sequential\n",
    "from tensorflow.keras.layers import Conv2D\n",
    "from tensorflow.keras.layers import MaxPooling2D\n",
    "from tensorflow.keras.layers import Flatten\n",
    "from tensorflow.keras.layers import Dense\n",
    "from tensorflow.keras.layers import Dropout\n",
    "from tensorflow.keras.layers import BatchNormalization\n",
    "from tensorflow.keras.callbacks import ModelCheckpoint\n",
    "from tensorflow.keras.callbacks import CSVLogger\n",
    "from tensorflow.keras.callbacks import EarlyStopping\n",
    "from tensorflow.keras.optimizers import Adam"
   ]
  },
  {
   "cell_type": "code",
   "execution_count": 50,
   "id": "95dd2023",
   "metadata": {},
   "outputs": [],
   "source": [
    "train_datagen = ImageDataGenerator(\n",
    "    rescale=1./255,\n",
    "    rotation_range=360,\n",
    "    horizontal_flip=True,\n",
    "    vertical_flip=True,\n",
    ")\n",
    "\n",
    "valid_datagen = ImageDataGenerator(    \n",
    "    rescale=1./255,\n",
    "    rotation_range=360,\n",
    "    horizontal_flip=True,\n",
    "    vertical_flip=True,\n",
    ")\n",
    "\n",
    "test_datagen = ImageDataGenerator(\n",
    "    rescale=1./255,\n",
    "    rotation_range=360,\n",
    "    horizontal_flip=True,\n",
    "    vertical_flip=True,\n",
    ")\n",
    "\n",
    "training_dir = r'D:\\DATASET\\Line_Model\\CTSP\\train_dataset'\n",
    "validation_dir = r'D:\\DATASET\\Line_Model\\CTSP\\val_dataset'\n",
    "testing_dir = r'D:\\DATASET\\Line_Model\\CTSP\\test_dataset'"
   ]
  },
  {
   "cell_type": "code",
   "execution_count": 51,
   "id": "db824480",
   "metadata": {},
   "outputs": [
    {
     "name": "stdout",
     "output_type": "stream",
     "text": [
      "Found 2800 images belonging to 2 classes.\n",
      "Found 400 images belonging to 2 classes.\n",
      "Found 800 images belonging to 2 classes.\n"
     ]
    }
   ],
   "source": [
    "# Load the training dataset using the ImageDataGenerator\n",
    "train_dataset = train_datagen.flow_from_directory(\n",
    "    training_dir,\n",
    "    target_size=(256, 256),\n",
    "    batch_size=10,\n",
    "    class_mode='binary',\n",
    "    shuffle=False\n",
    ")\n",
    "\n",
    "\n",
    "# Load the validation dataset using the ImageDataGenerator\n",
    "validation_dataset = valid_datagen.flow_from_directory(\n",
    "    validation_dir,\n",
    "    target_size=(256, 256),  \n",
    "    batch_size=10,\n",
    "    class_mode='binary',\n",
    "    shuffle=False\n",
    ")\n",
    "\n",
    "# Load the validation dataset using the ImageDataGenerator\n",
    "testing_dataset = test_datagen.flow_from_directory(\n",
    "    testing_dir,\n",
    "    target_size=(256, 256),  \n",
    "    batch_size=10,\n",
    "    class_mode='binary',\n",
    "    shuffle=False\n",
    ")"
   ]
  },
  {
   "cell_type": "code",
   "execution_count": 5,
   "id": "4d5a6059",
   "metadata": {},
   "outputs": [
    {
     "name": "stdout",
     "output_type": "stream",
     "text": [
      "Number of classes: 2\n",
      "Class names: ['abnormal', 'normal']\n",
      "Number of training images: 2800\n",
      "Number of validation images: 400\n"
     ]
    }
   ],
   "source": [
    "# Print the number of classes in the dataset\n",
    "num_classes = len(train_dataset.class_indices)\n",
    "print(\"Number of classes:\", num_classes)\n",
    "\n",
    "# Print the names of the classes\n",
    "class_names = list(train_dataset.class_indices.keys())\n",
    "print(\"Class names:\", class_names)\n",
    "\n",
    "# Print the number of training and validation images\n",
    "print(\"Number of training images:\", train_dataset.n)\n",
    "print(\"Number of validation images:\", validation_dataset.n)"
   ]
  },
  {
   "cell_type": "code",
   "execution_count": 6,
   "id": "f395df5b",
   "metadata": {},
   "outputs": [],
   "source": [
    "\n",
    "\n",
    "\n",
    "model = Sequential()\n",
    "\n",
    "model.add(layers.Conv2D(64, (3, 3), activation='relu', input_shape=[256, 256, 3]))\n",
    "model.add(layers.BatchNormalization())\n",
    "model.add(layers.MaxPooling2D((2, 2)))\n",
    "model.add(layers.Conv2D(128, (3, 3), activation='relu'))\n",
    "model.add(layers.BatchNormalization())\n",
    "model.add(layers.MaxPooling2D((2, 2)))\n",
    "model.add(layers.Conv2D(256, (3, 3), activation='relu'))\n",
    "model.add(layers.BatchNormalization())\n",
    "model.add(layers.MaxPooling2D((2, 2)))\n",
    "model.add(layers.Conv2D(512, (3, 3), activation='relu'))\n",
    "model.add(layers.BatchNormalization())\n",
    "model.add(layers.MaxPooling2D((2, 2)))\n",
    "model.add(layers.Conv2D(512, (3, 3), activation='relu'))\n",
    "model.add(layers.BatchNormalization())\n",
    "model.add(layers.MaxPooling2D((2, 2)))\n",
    "\n",
    "model.add(layers.Flatten())\n",
    "\n",
    "model.add(layers.Dense(256, activation='relu'))\n",
    "model.add(layers.Dropout(0.5)) \n",
    "model.add(layers.Dense(1, activation='sigmoid'))\n"
   ]
  },
  {
   "cell_type": "code",
   "execution_count": 7,
   "id": "e153bacc",
   "metadata": {},
   "outputs": [
    {
     "name": "stdout",
     "output_type": "stream",
     "text": [
      "Model: \"sequential\"\n",
      "_________________________________________________________________\n",
      " Layer (type)                Output Shape              Param #   \n",
      "=================================================================\n",
      " conv2d (Conv2D)             (None, 254, 254, 64)      1792      \n",
      "                                                                 \n",
      " batch_normalization (BatchN  (None, 254, 254, 64)     256       \n",
      " ormalization)                                                   \n",
      "                                                                 \n",
      " max_pooling2d (MaxPooling2D  (None, 127, 127, 64)     0         \n",
      " )                                                               \n",
      "                                                                 \n",
      " conv2d_1 (Conv2D)           (None, 125, 125, 128)     73856     \n",
      "                                                                 \n",
      " batch_normalization_1 (Batc  (None, 125, 125, 128)    512       \n",
      " hNormalization)                                                 \n",
      "                                                                 \n",
      " max_pooling2d_1 (MaxPooling  (None, 62, 62, 128)      0         \n",
      " 2D)                                                             \n",
      "                                                                 \n",
      " conv2d_2 (Conv2D)           (None, 60, 60, 256)       295168    \n",
      "                                                                 \n",
      " batch_normalization_2 (Batc  (None, 60, 60, 256)      1024      \n",
      " hNormalization)                                                 \n",
      "                                                                 \n",
      " max_pooling2d_2 (MaxPooling  (None, 30, 30, 256)      0         \n",
      " 2D)                                                             \n",
      "                                                                 \n",
      " conv2d_3 (Conv2D)           (None, 28, 28, 512)       1180160   \n",
      "                                                                 \n",
      " batch_normalization_3 (Batc  (None, 28, 28, 512)      2048      \n",
      " hNormalization)                                                 \n",
      "                                                                 \n",
      " max_pooling2d_3 (MaxPooling  (None, 14, 14, 512)      0         \n",
      " 2D)                                                             \n",
      "                                                                 \n",
      " conv2d_4 (Conv2D)           (None, 12, 12, 512)       2359808   \n",
      "                                                                 \n",
      " batch_normalization_4 (Batc  (None, 12, 12, 512)      2048      \n",
      " hNormalization)                                                 \n",
      "                                                                 \n",
      " max_pooling2d_4 (MaxPooling  (None, 6, 6, 512)        0         \n",
      " 2D)                                                             \n",
      "                                                                 \n",
      " flatten (Flatten)           (None, 18432)             0         \n",
      "                                                                 \n",
      " dense (Dense)               (None, 256)               4718848   \n",
      "                                                                 \n",
      " dropout (Dropout)           (None, 256)               0         \n",
      "                                                                 \n",
      " dense_1 (Dense)             (None, 1)                 257       \n",
      "                                                                 \n",
      "=================================================================\n",
      "Total params: 8,635,777\n",
      "Trainable params: 8,632,833\n",
      "Non-trainable params: 2,944\n",
      "_________________________________________________________________\n",
      "None\n"
     ]
    }
   ],
   "source": [
    "# Compile the model\n",
    "opt = tf.keras.optimizers.Adam(learning_rate=0.001)\n",
    "model.compile(\n",
    "    optimizer=opt,\n",
    "    loss='binary_crossentropy', \n",
    "    metrics=['accuracy'],\n",
    "    run_eagerly=None\n",
    ")\n",
    "print(model.summary())"
   ]
  },
  {
   "cell_type": "code",
   "execution_count": 8,
   "id": "8b7a0622",
   "metadata": {},
   "outputs": [],
   "source": [
    "# Define the checkpoint callback to save the model with the minimum loss\n",
    "checkpoint_callback = ModelCheckpoint('CTSP_model.h5', \n",
    "                                      monitor='val_loss', \n",
    "                                      mode=\"min\",\n",
    "                                      save_best_only=True)"
   ]
  },
  {
   "cell_type": "code",
   "execution_count": 9,
   "id": "1367bfa9",
   "metadata": {},
   "outputs": [],
   "source": [
    "# Define early stopping callback\n",
    "early_stopping_callback = EarlyStopping(\n",
    "    monitor='val_loss',  \n",
    "    patience=2,          \n",
    "    verbose=1,            \n",
    "    restore_best_weights=True  \n",
    ")"
   ]
  },
  {
   "cell_type": "code",
   "execution_count": 10,
   "id": "d42eb3df",
   "metadata": {},
   "outputs": [
    {
     "name": "stdout",
     "output_type": "stream",
     "text": [
      "Epoch 1/100\n",
      "280/280 [==============================] - 158s 535ms/step - loss: 1.7056 - accuracy: 0.7186 - val_loss: 5.7241 - val_accuracy: 0.5000\n",
      "Epoch 2/100\n",
      "280/280 [==============================] - 232s 829ms/step - loss: 0.2333 - accuracy: 0.9496 - val_loss: 3.0774 - val_accuracy: 0.5000\n",
      "Epoch 3/100\n",
      "280/280 [==============================] - 208s 744ms/step - loss: 0.2838 - accuracy: 0.9607 - val_loss: 3.6922 - val_accuracy: 0.5000\n",
      "Epoch 4/100\n",
      "280/280 [==============================] - 209s 747ms/step - loss: 0.1500 - accuracy: 0.9861 - val_loss: 0.7680 - val_accuracy: 0.7900\n",
      "Epoch 5/100\n",
      "280/280 [==============================] - 220s 788ms/step - loss: 0.1411 - accuracy: 0.9854 - val_loss: 0.3693 - val_accuracy: 0.8350\n",
      "Epoch 6/100\n",
      "280/280 [==============================] - 221s 789ms/step - loss: 0.1314 - accuracy: 0.9889 - val_loss: 0.0122 - val_accuracy: 1.0000\n",
      "Epoch 7/100\n",
      "280/280 [==============================] - 223s 796ms/step - loss: 0.1224 - accuracy: 0.9886 - val_loss: 0.0200 - val_accuracy: 1.0000\n",
      "Epoch 8/100\n",
      "280/280 [==============================] - ETA: 0s - loss: 0.1437 - accuracy: 0.9825Restoring model weights from the end of the best epoch: 6.\n",
      "280/280 [==============================] - 221s 792ms/step - loss: 0.1437 - accuracy: 0.9825 - val_loss: 21.8958 - val_accuracy: 0.5000\n",
      "Epoch 8: early stopping\n"
     ]
    }
   ],
   "source": [
    "# Train the model with the checkpoint callback\n",
    "history = model.fit(train_dataset,\n",
    "                    batch_size=10,\n",
    "                    epochs=100, \n",
    "                    validation_data=validation_dataset, \n",
    "                    callbacks=[checkpoint_callback,early_stopping_callback])"
   ]
  },
  {
   "cell_type": "code",
   "execution_count": 38,
   "id": "5e1a1123",
   "metadata": {},
   "outputs": [
    {
     "name": "stdout",
     "output_type": "stream",
     "text": [
      "280/280 [==============================] - 101s 360ms/step - loss: 0.7130 - accuracy: 0.9471\n",
      "Train Accuracy: 94.71%\n",
      "Train Loss: 0.71\n"
     ]
    }
   ],
   "source": [
    "# Evaluate the model on the train dataset\n",
    "\n",
    "model = tf.keras.models.load_model(r'CTSP_model.h5')\n",
    "loss, accuracy = model.evaluate(train_dataset)\n",
    "print('Train Accuracy: {:.2f}%'.format(accuracy*100))\n",
    "print('Train Loss: {:.2f}'.format(loss))"
   ]
  },
  {
   "cell_type": "code",
   "execution_count": 27,
   "id": "8bde8ce2",
   "metadata": {},
   "outputs": [
    {
     "data": {
      "image/png": "[encoded data removed]",
      "text/plain": [
       "<Figure size 600x600 with 1 Axes>"
      ]
     },
     "metadata": {},
     "output_type": "display_data"
    }
   ],
   "source": [
    "### Plot accuracy vs. epochs\n",
    "plt.figure(figsize=(6, 6))\n",
    "plt.plot(history.history['accuracy'], label='Training Accuracy')\n",
    "plt.plot(history.history['val_accuracy'], label='Validation Accuracy')\n",
    "plt.xlabel('Epochs')\n",
    "plt.ylabel('Accuracy')\n",
    "plt.title('Accuracy vs. Epochs')\n",
    "plt.legend()\n",
    "plt.savefig('accuracy_vs_epochs.png') "
   ]
  },
  {
   "cell_type": "code",
   "execution_count": 28,
   "id": "a29ac941",
   "metadata": {},
   "outputs": [
    {
     "data": {
      "image/png": "[encoded data removed]",
      "text/plain": [
       "<Figure size 600x600 with 1 Axes>"
      ]
     },
     "metadata": {},
     "output_type": "display_data"
    }
   ],
   "source": [
    "# Plot loss vs. epochs\n",
    "plt.figure(figsize=(6, 6))\n",
    "plt.plot(history.history['loss'], label='Training Loss')\n",
    "plt.plot(history.history['val_loss'], label='Validation Loss')\n",
    "plt.xlabel('Epochs')\n",
    "plt.ylabel('Loss')\n",
    "plt.title('Loss vs. Epochs')\n",
    "plt.legend()\n",
    "plt.savefig('loss_vs_epochs.png')  \n",
    "plt.show()"
   ]
  },
  {
   "cell_type": "code",
   "execution_count": 52,
   "id": "0fb30b49",
   "metadata": {},
   "outputs": [
    {
     "name": "stdout",
     "output_type": "stream",
     "text": [
      "80/80 [==============================] - 14s 176ms/step - loss: 0.3757 - accuracy: 0.9250\n",
      "Test Accuracy: 92.50%\n",
      "Test Loss: 0.38\n"
     ]
    }
   ],
   "source": [
    "# Load the saved model\n",
    "model = tf.keras.models.load_model(r'CTSP_model.h5')\n",
    "\n",
    "# Evaluate the model on the test dataset\n",
    "loss, accuracy = model.evaluate(testing_dataset)\n",
    "print('Test Accuracy: {:.2f}%'.format(accuracy*100))\n",
    "print('Test Loss: {:.2f}'.format(loss))\n",
    "\n"
   ]
  },
  {
   "cell_type": "code",
   "execution_count": null,
   "id": "78083b56",
   "metadata": {},
   "outputs": [],
   "source": []
  }
 ],
 "metadata": {
  "kernelspec": {
   "display_name": "Python 3 (ipykernel)",
   "language": "python",
   "name": "python3"
  },
  "language_info": {
   "codemirror_mode": {
    "name": "ipython",
    "version": 3
   },
   "file_extension": ".py",
   "mimetype": "text/x-python",
   "name": "python",
   "nbconvert_exporter": "python",
   "pygments_lexer": "ipython3",
   "version": "3.11.5"
  }
 },
 "nbformat": 4,
 "nbformat_minor": 5
}
